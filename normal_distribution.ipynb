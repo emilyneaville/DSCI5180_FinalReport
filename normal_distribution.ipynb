{
 "cells": [
  {
   "cell_type": "code",
   "execution_count": 20,
   "metadata": {},
   "outputs": [],
   "source": [
    "import pandas as pd\n",
    "import numpy as np"
   ]
  },
  {
   "cell_type": "code",
   "execution_count": 21,
   "metadata": {},
   "outputs": [],
   "source": [
    "data = pd.read_csv('US_County_Data.csv')"
   ]
  },
  {
   "cell_type": "code",
   "execution_count": 22,
   "metadata": {},
   "outputs": [
    {
     "data": {
      "text/html": [
       "<div>\n",
       "<style scoped>\n",
       "    .dataframe tbody tr th:only-of-type {\n",
       "        vertical-align: middle;\n",
       "    }\n",
       "\n",
       "    .dataframe tbody tr th {\n",
       "        vertical-align: top;\n",
       "    }\n",
       "\n",
       "    .dataframe thead th {\n",
       "        text-align: right;\n",
       "    }\n",
       "</style>\n",
       "<table border=\"1\" class=\"dataframe\">\n",
       "  <thead>\n",
       "    <tr style=\"text-align: right;\">\n",
       "      <th></th>\n",
       "      <th>fips</th>\n",
       "      <th>name_16</th>\n",
       "      <th>County</th>\n",
       "      <th>Less.Than.High.School</th>\n",
       "      <th>At.Least.High.School.Diploma</th>\n",
       "      <th>At.Least.Bachelor.s.Degree</th>\n",
       "      <th>Graduate.Degree</th>\n",
       "      <th>School.Enrollment</th>\n",
       "      <th>Median.Earnings.2010.dollars</th>\n",
       "      <th>White.not.Latino.Population</th>\n",
       "      <th>...</th>\n",
       "      <th>autumn_TMAX</th>\n",
       "      <th>autumn_TMIN</th>\n",
       "      <th>nearest_county</th>\n",
       "      <th>temp</th>\n",
       "      <th>precip</th>\n",
       "      <th>temp_bins</th>\n",
       "      <th>lat_bins</th>\n",
       "      <th>lon_bins</th>\n",
       "      <th>precip_bins</th>\n",
       "      <th>elevation_bins</th>\n",
       "    </tr>\n",
       "  </thead>\n",
       "  <tbody>\n",
       "    <tr>\n",
       "      <th>0</th>\n",
       "      <td>1001</td>\n",
       "      <td>Autauga</td>\n",
       "      <td>Autauga County, Alabama</td>\n",
       "      <td>14.7</td>\n",
       "      <td>85.3</td>\n",
       "      <td>21.7</td>\n",
       "      <td>7.1</td>\n",
       "      <td>78.80</td>\n",
       "      <td>30043.21365</td>\n",
       "      <td>77.55</td>\n",
       "      <td>...</td>\n",
       "      <td>NaN</td>\n",
       "      <td>NaN</td>\n",
       "      <td>NaN</td>\n",
       "      <td>NaN</td>\n",
       "      <td>NaN</td>\n",
       "      <td>NaN</td>\n",
       "      <td>(31.7,33.8]</td>\n",
       "      <td>(-87.2,-84.5]</td>\n",
       "      <td>NaN</td>\n",
       "      <td>NaN</td>\n",
       "    </tr>\n",
       "    <tr>\n",
       "      <th>1</th>\n",
       "      <td>1003</td>\n",
       "      <td>Baldwin</td>\n",
       "      <td>Baldwin County, Alabama</td>\n",
       "      <td>12.4</td>\n",
       "      <td>87.6</td>\n",
       "      <td>26.8</td>\n",
       "      <td>8.7</td>\n",
       "      <td>74.95</td>\n",
       "      <td>26630.56540</td>\n",
       "      <td>84.30</td>\n",
       "      <td>...</td>\n",
       "      <td>787.5</td>\n",
       "      <td>568.25</td>\n",
       "      <td>1003.0</td>\n",
       "      <td>19.083333</td>\n",
       "      <td>NaN</td>\n",
       "      <td>(18.5,25.2]</td>\n",
       "      <td>[19.6,31.7]</td>\n",
       "      <td>(-90.4,-87.2]</td>\n",
       "      <td>NaN</td>\n",
       "      <td>(38.9,105]</td>\n",
       "    </tr>\n",
       "    <tr>\n",
       "      <th>2</th>\n",
       "      <td>1005</td>\n",
       "      <td>Barbour</td>\n",
       "      <td>Barbour County, Alabama</td>\n",
       "      <td>28.1</td>\n",
       "      <td>71.9</td>\n",
       "      <td>13.5</td>\n",
       "      <td>6.0</td>\n",
       "      <td>67.85</td>\n",
       "      <td>20663.45270</td>\n",
       "      <td>47.40</td>\n",
       "      <td>...</td>\n",
       "      <td>779.0</td>\n",
       "      <td>512.00</td>\n",
       "      <td>1005.0</td>\n",
       "      <td>17.333333</td>\n",
       "      <td>NaN</td>\n",
       "      <td>(16.6,18.5]</td>\n",
       "      <td>(31.7,33.8]</td>\n",
       "      <td>(-87.2,-84.5]</td>\n",
       "      <td>NaN</td>\n",
       "      <td>(167,216]</td>\n",
       "    </tr>\n",
       "    <tr>\n",
       "      <th>3</th>\n",
       "      <td>1007</td>\n",
       "      <td>Bibb</td>\n",
       "      <td>Bibb County, Alabama</td>\n",
       "      <td>25.5</td>\n",
       "      <td>74.5</td>\n",
       "      <td>10.0</td>\n",
       "      <td>2.6</td>\n",
       "      <td>67.30</td>\n",
       "      <td>26875.00381</td>\n",
       "      <td>75.20</td>\n",
       "      <td>...</td>\n",
       "      <td>NaN</td>\n",
       "      <td>NaN</td>\n",
       "      <td>1007.0</td>\n",
       "      <td>NaN</td>\n",
       "      <td>1462.405</td>\n",
       "      <td>NaN</td>\n",
       "      <td>(31.7,33.8]</td>\n",
       "      <td>(-87.2,-84.5]</td>\n",
       "      <td>(1.39e+03,4.3e+03]</td>\n",
       "      <td>(105,167]</td>\n",
       "    </tr>\n",
       "    <tr>\n",
       "      <th>4</th>\n",
       "      <td>1009</td>\n",
       "      <td>Blount</td>\n",
       "      <td>Blount County, Alabama</td>\n",
       "      <td>25.3</td>\n",
       "      <td>74.7</td>\n",
       "      <td>12.5</td>\n",
       "      <td>4.2</td>\n",
       "      <td>72.50</td>\n",
       "      <td>27774.18032</td>\n",
       "      <td>89.15</td>\n",
       "      <td>...</td>\n",
       "      <td>NaN</td>\n",
       "      <td>NaN</td>\n",
       "      <td>1009.0</td>\n",
       "      <td>NaN</td>\n",
       "      <td>1418.082</td>\n",
       "      <td>NaN</td>\n",
       "      <td>(33.8,35.6]</td>\n",
       "      <td>(-87.2,-84.5]</td>\n",
       "      <td>(1.39e+03,4.3e+03]</td>\n",
       "      <td>(216,259]</td>\n",
       "    </tr>\n",
       "  </tbody>\n",
       "</table>\n",
       "<p>5 rows × 94 columns</p>\n",
       "</div>"
      ],
      "text/plain": [
       "   fips  name_16                   County  Less.Than.High.School  \\\n",
       "0  1001  Autauga  Autauga County, Alabama                   14.7   \n",
       "1  1003  Baldwin  Baldwin County, Alabama                   12.4   \n",
       "2  1005  Barbour  Barbour County, Alabama                   28.1   \n",
       "3  1007     Bibb     Bibb County, Alabama                   25.5   \n",
       "4  1009   Blount   Blount County, Alabama                   25.3   \n",
       "\n",
       "   At.Least.High.School.Diploma  At.Least.Bachelor.s.Degree  Graduate.Degree  \\\n",
       "0                          85.3                        21.7              7.1   \n",
       "1                          87.6                        26.8              8.7   \n",
       "2                          71.9                        13.5              6.0   \n",
       "3                          74.5                        10.0              2.6   \n",
       "4                          74.7                        12.5              4.2   \n",
       "\n",
       "   School.Enrollment  Median.Earnings.2010.dollars  \\\n",
       "0              78.80                   30043.21365   \n",
       "1              74.95                   26630.56540   \n",
       "2              67.85                   20663.45270   \n",
       "3              67.30                   26875.00381   \n",
       "4              72.50                   27774.18032   \n",
       "\n",
       "   White.not.Latino.Population  ...  autumn_TMAX  autumn_TMIN  nearest_county  \\\n",
       "0                        77.55  ...          NaN          NaN             NaN   \n",
       "1                        84.30  ...        787.5       568.25          1003.0   \n",
       "2                        47.40  ...        779.0       512.00          1005.0   \n",
       "3                        75.20  ...          NaN          NaN          1007.0   \n",
       "4                        89.15  ...          NaN          NaN          1009.0   \n",
       "\n",
       "        temp    precip    temp_bins     lat_bins       lon_bins  \\\n",
       "0        NaN       NaN          NaN  (31.7,33.8]  (-87.2,-84.5]   \n",
       "1  19.083333       NaN  (18.5,25.2]  [19.6,31.7]  (-90.4,-87.2]   \n",
       "2  17.333333       NaN  (16.6,18.5]  (31.7,33.8]  (-87.2,-84.5]   \n",
       "3        NaN  1462.405          NaN  (31.7,33.8]  (-87.2,-84.5]   \n",
       "4        NaN  1418.082          NaN  (33.8,35.6]  (-87.2,-84.5]   \n",
       "\n",
       "          precip_bins  elevation_bins  \n",
       "0                 NaN             NaN  \n",
       "1                 NaN      (38.9,105]  \n",
       "2                 NaN       (167,216]  \n",
       "3  (1.39e+03,4.3e+03]       (105,167]  \n",
       "4  (1.39e+03,4.3e+03]       (216,259]  \n",
       "\n",
       "[5 rows x 94 columns]"
      ]
     },
     "execution_count": 22,
     "metadata": {},
     "output_type": "execute_result"
    }
   ],
   "source": [
    "# Make sure the data is loaded correctly\n",
    "data.head()"
   ]
  },
  {
   "cell_type": "code",
   "execution_count": 23,
   "metadata": {},
   "outputs": [
    {
     "name": "stdout",
     "output_type": "stream",
     "text": [
      "0    30043.21365\n",
      "1    26630.56540\n",
      "2    20663.45270\n",
      "3    26875.00381\n",
      "4    27774.18032\n",
      "Name: Median.Earnings.2010.dollars, dtype: float64\n"
     ]
    }
   ],
   "source": [
    "# Extract the column with the median earnings and check data type\n",
    "earnings = data['Median.Earnings.2010.dollars']\n",
    "print(earnings.head())"
   ]
  },
  {
   "cell_type": "code",
   "execution_count": 24,
   "metadata": {},
   "outputs": [
    {
     "name": "stdout",
     "output_type": "stream",
     "text": [
      "0    30043.21\n",
      "1    26630.57\n",
      "2    20663.45\n",
      "3    26875.00\n",
      "4    27774.18\n",
      "Name: Median.Earnings.2010.dollars, dtype: float64\n"
     ]
    }
   ],
   "source": [
    "# Round the median earnings to two decimal places\n",
    "earnings_rounded = earnings.round(2)\n",
    "print(earnings_rounded.head())"
   ]
  },
  {
   "cell_type": "code",
   "execution_count": 28,
   "metadata": {},
   "outputs": [
    {
     "name": "stdout",
     "output_type": "stream",
     "text": [
      "Number of missing values: 0\n"
     ]
    }
   ],
   "source": [
    "# Count the number of missing values in the data\n",
    "missing_values = earnings_rounded.isnull().sum()\n",
    "print('Number of missing values:', missing_values)"
   ]
  },
  {
   "cell_type": "code",
   "execution_count": 30,
   "metadata": {},
   "outputs": [
    {
     "data": {
      "text/plain": [
       "count     3143.000000\n",
       "mean     25462.809236\n",
       "std       5078.076097\n",
       "min          0.000000\n",
       "25%      22331.640000\n",
       "50%      24830.890000\n",
       "75%      27549.180000\n",
       "max      56674.350000\n",
       "Name: Median.Earnings.2010.dollars, dtype: float64"
      ]
     },
     "execution_count": 30,
     "metadata": {},
     "output_type": "execute_result"
    }
   ],
   "source": [
    "# Count the number of non-missing values in the data\n",
    "earnings_rounded.describe()"
   ]
  }
 ],
 "metadata": {
  "kernelspec": {
   "display_name": "PythonData",
   "language": "python",
   "name": "python3"
  },
  "language_info": {
   "codemirror_mode": {
    "name": "ipython",
    "version": 3
   },
   "file_extension": ".py",
   "mimetype": "text/x-python",
   "name": "python",
   "nbconvert_exporter": "python",
   "pygments_lexer": "ipython3",
   "version": "3.7.16"
  }
 },
 "nbformat": 4,
 "nbformat_minor": 2
}
