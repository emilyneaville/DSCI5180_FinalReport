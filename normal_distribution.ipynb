{
 "cells": [
  {
   "cell_type": "markdown",
   "metadata": {},
   "source": [
    "## Normal Distribution and Probability Analysis"
   ]
  },
  {
   "cell_type": "code",
   "execution_count": 134,
   "metadata": {},
   "outputs": [],
   "source": [
    "import pandas as pd\n",
    "import numpy as np"
   ]
  },
  {
   "cell_type": "code",
   "execution_count": 135,
   "metadata": {},
   "outputs": [],
   "source": [
    "data = pd.read_csv('Datasets/US_County_Data.csv')"
   ]
  },
  {
   "cell_type": "code",
   "execution_count": 136,
   "metadata": {},
   "outputs": [
    {
     "data": {
      "text/html": [
       "<div>\n",
       "<style scoped>\n",
       "    .dataframe tbody tr th:only-of-type {\n",
       "        vertical-align: middle;\n",
       "    }\n",
       "\n",
       "    .dataframe tbody tr th {\n",
       "        vertical-align: top;\n",
       "    }\n",
       "\n",
       "    .dataframe thead th {\n",
       "        text-align: right;\n",
       "    }\n",
       "</style>\n",
       "<table border=\"1\" class=\"dataframe\">\n",
       "  <thead>\n",
       "    <tr style=\"text-align: right;\">\n",
       "      <th></th>\n",
       "      <th>fips</th>\n",
       "      <th>name_16</th>\n",
       "      <th>County</th>\n",
       "      <th>Less.Than.High.School</th>\n",
       "      <th>At.Least.High.School.Diploma</th>\n",
       "      <th>At.Least.Bachelor.s.Degree</th>\n",
       "      <th>Graduate.Degree</th>\n",
       "      <th>School.Enrollment</th>\n",
       "      <th>Median.Earnings.2010.dollars</th>\n",
       "      <th>White.not.Latino.Population</th>\n",
       "      <th>...</th>\n",
       "      <th>autumn_TMAX</th>\n",
       "      <th>autumn_TMIN</th>\n",
       "      <th>nearest_county</th>\n",
       "      <th>temp</th>\n",
       "      <th>precip</th>\n",
       "      <th>temp_bins</th>\n",
       "      <th>lat_bins</th>\n",
       "      <th>lon_bins</th>\n",
       "      <th>precip_bins</th>\n",
       "      <th>elevation_bins</th>\n",
       "    </tr>\n",
       "  </thead>\n",
       "  <tbody>\n",
       "    <tr>\n",
       "      <th>0</th>\n",
       "      <td>1001</td>\n",
       "      <td>Autauga</td>\n",
       "      <td>Autauga County, Alabama</td>\n",
       "      <td>14.7</td>\n",
       "      <td>85.3</td>\n",
       "      <td>21.7</td>\n",
       "      <td>7.1</td>\n",
       "      <td>78.80</td>\n",
       "      <td>53049.0</td>\n",
       "      <td>77.55</td>\n",
       "      <td>...</td>\n",
       "      <td>NaN</td>\n",
       "      <td>NaN</td>\n",
       "      <td>NaN</td>\n",
       "      <td>NaN</td>\n",
       "      <td>NaN</td>\n",
       "      <td>NaN</td>\n",
       "      <td>(31.7,33.8]</td>\n",
       "      <td>(-87.2,-84.5]</td>\n",
       "      <td>NaN</td>\n",
       "      <td>NaN</td>\n",
       "    </tr>\n",
       "    <tr>\n",
       "      <th>1</th>\n",
       "      <td>1003</td>\n",
       "      <td>Baldwin</td>\n",
       "      <td>Baldwin County, Alabama</td>\n",
       "      <td>12.4</td>\n",
       "      <td>87.6</td>\n",
       "      <td>26.8</td>\n",
       "      <td>8.7</td>\n",
       "      <td>74.95</td>\n",
       "      <td>47618.0</td>\n",
       "      <td>84.30</td>\n",
       "      <td>...</td>\n",
       "      <td>787.5</td>\n",
       "      <td>568.25</td>\n",
       "      <td>1003.0</td>\n",
       "      <td>19.083333</td>\n",
       "      <td>NaN</td>\n",
       "      <td>(18.5,25.2]</td>\n",
       "      <td>[19.6,31.7]</td>\n",
       "      <td>(-90.4,-87.2]</td>\n",
       "      <td>NaN</td>\n",
       "      <td>(38.9,105]</td>\n",
       "    </tr>\n",
       "    <tr>\n",
       "      <th>2</th>\n",
       "      <td>1005</td>\n",
       "      <td>Barbour</td>\n",
       "      <td>Barbour County, Alabama</td>\n",
       "      <td>28.1</td>\n",
       "      <td>71.9</td>\n",
       "      <td>13.5</td>\n",
       "      <td>6.0</td>\n",
       "      <td>67.85</td>\n",
       "      <td>33074.0</td>\n",
       "      <td>47.40</td>\n",
       "      <td>...</td>\n",
       "      <td>779.0</td>\n",
       "      <td>512.00</td>\n",
       "      <td>1005.0</td>\n",
       "      <td>17.333333</td>\n",
       "      <td>NaN</td>\n",
       "      <td>(16.6,18.5]</td>\n",
       "      <td>(31.7,33.8]</td>\n",
       "      <td>(-87.2,-84.5]</td>\n",
       "      <td>NaN</td>\n",
       "      <td>(167,216]</td>\n",
       "    </tr>\n",
       "    <tr>\n",
       "      <th>3</th>\n",
       "      <td>1007</td>\n",
       "      <td>Bibb</td>\n",
       "      <td>Bibb County, Alabama</td>\n",
       "      <td>25.5</td>\n",
       "      <td>74.5</td>\n",
       "      <td>10.0</td>\n",
       "      <td>2.6</td>\n",
       "      <td>67.30</td>\n",
       "      <td>35472.0</td>\n",
       "      <td>75.20</td>\n",
       "      <td>...</td>\n",
       "      <td>NaN</td>\n",
       "      <td>NaN</td>\n",
       "      <td>1007.0</td>\n",
       "      <td>NaN</td>\n",
       "      <td>1462.4050</td>\n",
       "      <td>NaN</td>\n",
       "      <td>(31.7,33.8]</td>\n",
       "      <td>(-87.2,-84.5]</td>\n",
       "      <td>(1.39e+03,4.3e+03]</td>\n",
       "      <td>(105,167]</td>\n",
       "    </tr>\n",
       "    <tr>\n",
       "      <th>4</th>\n",
       "      <td>1009</td>\n",
       "      <td>Blount</td>\n",
       "      <td>Blount County, Alabama</td>\n",
       "      <td>25.3</td>\n",
       "      <td>74.7</td>\n",
       "      <td>12.5</td>\n",
       "      <td>4.2</td>\n",
       "      <td>72.50</td>\n",
       "      <td>42906.0</td>\n",
       "      <td>89.15</td>\n",
       "      <td>...</td>\n",
       "      <td>NaN</td>\n",
       "      <td>NaN</td>\n",
       "      <td>1009.0</td>\n",
       "      <td>NaN</td>\n",
       "      <td>1418.0820</td>\n",
       "      <td>NaN</td>\n",
       "      <td>(33.8,35.6]</td>\n",
       "      <td>(-87.2,-84.5]</td>\n",
       "      <td>(1.39e+03,4.3e+03]</td>\n",
       "      <td>(216,259]</td>\n",
       "    </tr>\n",
       "    <tr>\n",
       "      <th>...</th>\n",
       "      <td>...</td>\n",
       "      <td>...</td>\n",
       "      <td>...</td>\n",
       "      <td>...</td>\n",
       "      <td>...</td>\n",
       "      <td>...</td>\n",
       "      <td>...</td>\n",
       "      <td>...</td>\n",
       "      <td>...</td>\n",
       "      <td>...</td>\n",
       "      <td>...</td>\n",
       "      <td>...</td>\n",
       "      <td>...</td>\n",
       "      <td>...</td>\n",
       "      <td>...</td>\n",
       "      <td>...</td>\n",
       "      <td>...</td>\n",
       "      <td>...</td>\n",
       "      <td>...</td>\n",
       "      <td>...</td>\n",
       "      <td>...</td>\n",
       "    </tr>\n",
       "    <tr>\n",
       "      <th>3138</th>\n",
       "      <td>56037</td>\n",
       "      <td>Sweetwater</td>\n",
       "      <td>Sweetwater County, Wyoming</td>\n",
       "      <td>10.1</td>\n",
       "      <td>89.9</td>\n",
       "      <td>17.1</td>\n",
       "      <td>4.6</td>\n",
       "      <td>70.70</td>\n",
       "      <td>67508.0</td>\n",
       "      <td>82.30</td>\n",
       "      <td>...</td>\n",
       "      <td>NaN</td>\n",
       "      <td>NaN</td>\n",
       "      <td>56037.0</td>\n",
       "      <td>NaN</td>\n",
       "      <td>215.7730</td>\n",
       "      <td>NaN</td>\n",
       "      <td>(41,42.8]</td>\n",
       "      <td>[-164,-109]</td>\n",
       "      <td>[123,444]</td>\n",
       "      <td>(1.01e+03,3.06e+03]</td>\n",
       "    </tr>\n",
       "    <tr>\n",
       "      <th>3139</th>\n",
       "      <td>56039</td>\n",
       "      <td>Teton</td>\n",
       "      <td>Teton County, Wyoming</td>\n",
       "      <td>4.9</td>\n",
       "      <td>95.1</td>\n",
       "      <td>49.7</td>\n",
       "      <td>16.4</td>\n",
       "      <td>63.90</td>\n",
       "      <td>68358.0</td>\n",
       "      <td>83.75</td>\n",
       "      <td>...</td>\n",
       "      <td>497.0</td>\n",
       "      <td>217.00</td>\n",
       "      <td>56039.0</td>\n",
       "      <td>1.344444</td>\n",
       "      <td>615.7468</td>\n",
       "      <td>[-10.1,6.44]</td>\n",
       "      <td>(42.8,45]</td>\n",
       "      <td>[-164,-109]</td>\n",
       "      <td>(444,628]</td>\n",
       "      <td>(1.01e+03,3.06e+03]</td>\n",
       "    </tr>\n",
       "    <tr>\n",
       "      <th>3140</th>\n",
       "      <td>56041</td>\n",
       "      <td>Uinta</td>\n",
       "      <td>Uinta County, Wyoming</td>\n",
       "      <td>11.7</td>\n",
       "      <td>88.3</td>\n",
       "      <td>17.4</td>\n",
       "      <td>5.1</td>\n",
       "      <td>75.30</td>\n",
       "      <td>60532.0</td>\n",
       "      <td>89.10</td>\n",
       "      <td>...</td>\n",
       "      <td>NaN</td>\n",
       "      <td>NaN</td>\n",
       "      <td>56041.0</td>\n",
       "      <td>NaN</td>\n",
       "      <td>270.7640</td>\n",
       "      <td>NaN</td>\n",
       "      <td>(41,42.8]</td>\n",
       "      <td>[-164,-109]</td>\n",
       "      <td>[123,444]</td>\n",
       "      <td>(1.01e+03,3.06e+03]</td>\n",
       "    </tr>\n",
       "    <tr>\n",
       "      <th>3141</th>\n",
       "      <td>56043</td>\n",
       "      <td>Washakie</td>\n",
       "      <td>Washakie County, Wyoming</td>\n",
       "      <td>10.4</td>\n",
       "      <td>89.6</td>\n",
       "      <td>24.5</td>\n",
       "      <td>8.9</td>\n",
       "      <td>70.80</td>\n",
       "      <td>47831.0</td>\n",
       "      <td>83.60</td>\n",
       "      <td>...</td>\n",
       "      <td>596.6</td>\n",
       "      <td>317.60</td>\n",
       "      <td>56043.0</td>\n",
       "      <td>7.688889</td>\n",
       "      <td>286.2072</td>\n",
       "      <td>(6.44,8.12]</td>\n",
       "      <td>(42.8,45]</td>\n",
       "      <td>(-109,-100]</td>\n",
       "      <td>[123,444]</td>\n",
       "      <td>(1.01e+03,3.06e+03]</td>\n",
       "    </tr>\n",
       "    <tr>\n",
       "      <th>3142</th>\n",
       "      <td>56045</td>\n",
       "      <td>Weston</td>\n",
       "      <td>Weston County, Wyoming</td>\n",
       "      <td>8.9</td>\n",
       "      <td>91.1</td>\n",
       "      <td>17.9</td>\n",
       "      <td>4.0</td>\n",
       "      <td>68.50</td>\n",
       "      <td>48653.0</td>\n",
       "      <td>93.75</td>\n",
       "      <td>...</td>\n",
       "      <td>588.0</td>\n",
       "      <td>321.00</td>\n",
       "      <td>56045.0</td>\n",
       "      <td>7.296296</td>\n",
       "      <td>431.8000</td>\n",
       "      <td>(6.44,8.12]</td>\n",
       "      <td>(42.8,45]</td>\n",
       "      <td>(-109,-100]</td>\n",
       "      <td>[123,444]</td>\n",
       "      <td>(1.01e+03,3.06e+03]</td>\n",
       "    </tr>\n",
       "  </tbody>\n",
       "</table>\n",
       "<p>3143 rows × 94 columns</p>\n",
       "</div>"
      ],
      "text/plain": [
       "       fips     name_16                      County  Less.Than.High.School  \\\n",
       "0      1001     Autauga     Autauga County, Alabama                   14.7   \n",
       "1      1003     Baldwin     Baldwin County, Alabama                   12.4   \n",
       "2      1005     Barbour     Barbour County, Alabama                   28.1   \n",
       "3      1007        Bibb        Bibb County, Alabama                   25.5   \n",
       "4      1009      Blount      Blount County, Alabama                   25.3   \n",
       "...     ...         ...                         ...                    ...   \n",
       "3138  56037  Sweetwater  Sweetwater County, Wyoming                   10.1   \n",
       "3139  56039       Teton       Teton County, Wyoming                    4.9   \n",
       "3140  56041       Uinta       Uinta County, Wyoming                   11.7   \n",
       "3141  56043    Washakie    Washakie County, Wyoming                   10.4   \n",
       "3142  56045      Weston      Weston County, Wyoming                    8.9   \n",
       "\n",
       "      At.Least.High.School.Diploma  At.Least.Bachelor.s.Degree  \\\n",
       "0                             85.3                        21.7   \n",
       "1                             87.6                        26.8   \n",
       "2                             71.9                        13.5   \n",
       "3                             74.5                        10.0   \n",
       "4                             74.7                        12.5   \n",
       "...                            ...                         ...   \n",
       "3138                          89.9                        17.1   \n",
       "3139                          95.1                        49.7   \n",
       "3140                          88.3                        17.4   \n",
       "3141                          89.6                        24.5   \n",
       "3142                          91.1                        17.9   \n",
       "\n",
       "      Graduate.Degree  School.Enrollment  Median.Earnings.2010.dollars  \\\n",
       "0                 7.1              78.80                       53049.0   \n",
       "1                 8.7              74.95                       47618.0   \n",
       "2                 6.0              67.85                       33074.0   \n",
       "3                 2.6              67.30                       35472.0   \n",
       "4                 4.2              72.50                       42906.0   \n",
       "...               ...                ...                           ...   \n",
       "3138              4.6              70.70                       67508.0   \n",
       "3139             16.4              63.90                       68358.0   \n",
       "3140              5.1              75.30                       60532.0   \n",
       "3141              8.9              70.80                       47831.0   \n",
       "3142              4.0              68.50                       48653.0   \n",
       "\n",
       "      White.not.Latino.Population  ...  autumn_TMAX  autumn_TMIN  \\\n",
       "0                           77.55  ...          NaN          NaN   \n",
       "1                           84.30  ...        787.5       568.25   \n",
       "2                           47.40  ...        779.0       512.00   \n",
       "3                           75.20  ...          NaN          NaN   \n",
       "4                           89.15  ...          NaN          NaN   \n",
       "...                           ...  ...          ...          ...   \n",
       "3138                        82.30  ...          NaN          NaN   \n",
       "3139                        83.75  ...        497.0       217.00   \n",
       "3140                        89.10  ...          NaN          NaN   \n",
       "3141                        83.60  ...        596.6       317.60   \n",
       "3142                        93.75  ...        588.0       321.00   \n",
       "\n",
       "      nearest_county       temp     precip     temp_bins     lat_bins  \\\n",
       "0                NaN        NaN        NaN           NaN  (31.7,33.8]   \n",
       "1             1003.0  19.083333        NaN   (18.5,25.2]  [19.6,31.7]   \n",
       "2             1005.0  17.333333        NaN   (16.6,18.5]  (31.7,33.8]   \n",
       "3             1007.0        NaN  1462.4050           NaN  (31.7,33.8]   \n",
       "4             1009.0        NaN  1418.0820           NaN  (33.8,35.6]   \n",
       "...              ...        ...        ...           ...          ...   \n",
       "3138         56037.0        NaN   215.7730           NaN    (41,42.8]   \n",
       "3139         56039.0   1.344444   615.7468  [-10.1,6.44]    (42.8,45]   \n",
       "3140         56041.0        NaN   270.7640           NaN    (41,42.8]   \n",
       "3141         56043.0   7.688889   286.2072   (6.44,8.12]    (42.8,45]   \n",
       "3142         56045.0   7.296296   431.8000   (6.44,8.12]    (42.8,45]   \n",
       "\n",
       "           lon_bins         precip_bins       elevation_bins  \n",
       "0     (-87.2,-84.5]                 NaN                  NaN  \n",
       "1     (-90.4,-87.2]                 NaN           (38.9,105]  \n",
       "2     (-87.2,-84.5]                 NaN            (167,216]  \n",
       "3     (-87.2,-84.5]  (1.39e+03,4.3e+03]            (105,167]  \n",
       "4     (-87.2,-84.5]  (1.39e+03,4.3e+03]            (216,259]  \n",
       "...             ...                 ...                  ...  \n",
       "3138    [-164,-109]           [123,444]  (1.01e+03,3.06e+03]  \n",
       "3139    [-164,-109]           (444,628]  (1.01e+03,3.06e+03]  \n",
       "3140    [-164,-109]           [123,444]  (1.01e+03,3.06e+03]  \n",
       "3141    (-109,-100]           [123,444]  (1.01e+03,3.06e+03]  \n",
       "3142    (-109,-100]           [123,444]  (1.01e+03,3.06e+03]  \n",
       "\n",
       "[3143 rows x 94 columns]"
      ]
     },
     "execution_count": 136,
     "metadata": {},
     "output_type": "execute_result"
    }
   ],
   "source": [
    "# Make sure the table is loaded correctly\n",
    "data"
   ]
  },
  {
   "cell_type": "code",
   "execution_count": 137,
   "metadata": {},
   "outputs": [
    {
     "data": {
      "text/plain": [
       "1"
      ]
     },
     "execution_count": 137,
     "metadata": {},
     "output_type": "execute_result"
    }
   ],
   "source": [
    "# Check for missing values in the Median Earnings column\n",
    "data['Median.Earnings.2010.dollars'].isnull().sum()\n"
   ]
  },
  {
   "cell_type": "code",
   "execution_count": 138,
   "metadata": {},
   "outputs": [
    {
     "data": {
      "text/plain": [
       "0"
      ]
     },
     "execution_count": 138,
     "metadata": {},
     "output_type": "execute_result"
    }
   ],
   "source": [
    "# Find the row with the missing Median Earnings value and delete it\n",
    "missing_value_rows = data[data['Median.Earnings.2010.dollars'].isnull()]\n",
    "data_cleaned = data.drop(missing_value_rows.index)\n",
    "\n",
    "# Check again for missing values in the Median Earnings column\n",
    "data_cleaned['Median.Earnings.2010.dollars'].isnull().sum()"
   ]
  },
  {
   "cell_type": "code",
   "execution_count": 139,
   "metadata": {},
   "outputs": [
    {
     "data": {
      "text/plain": [
       "0    53049.0\n",
       "1    47618.0\n",
       "2    33074.0\n",
       "3    35472.0\n",
       "4    42906.0\n",
       "Name: Median.Earnings.2010.dollars, dtype: float64"
      ]
     },
     "execution_count": 139,
     "metadata": {},
     "output_type": "execute_result"
    }
   ],
   "source": [
    "# Extract the column with the median earnings and check data type\n",
    "earnings = data_cleaned['Median.Earnings.2010.dollars']\n",
    "earnings.head()"
   ]
  },
  {
   "cell_type": "code",
   "execution_count": 140,
   "metadata": {},
   "outputs": [
    {
     "data": {
      "text/plain": [
       "0    53049\n",
       "1    47618\n",
       "2    33074\n",
       "3    35472\n",
       "4    42906\n",
       "Name: Median.Earnings.2010.dollars, dtype: int64"
      ]
     },
     "execution_count": 140,
     "metadata": {},
     "output_type": "execute_result"
    }
   ],
   "source": [
    "# Round to the nearest dollar and convert to integer\n",
    "earnings = earnings.round().astype(int)\n",
    "earnings.head()"
   ]
  },
  {
   "cell_type": "code",
   "execution_count": 141,
   "metadata": {},
   "outputs": [
    {
     "data": {
      "text/plain": [
       "3142"
      ]
     },
     "execution_count": 141,
     "metadata": {},
     "output_type": "execute_result"
    }
   ],
   "source": [
    "# Count the number of non-missing values in the earnings\n",
    "earnings.count()"
   ]
  },
  {
   "cell_type": "code",
   "execution_count": 142,
   "metadata": {},
   "outputs": [],
   "source": [
    "# Export the cleaned earning to a new CSV file\n",
    "earnings.to_csv('Datasets/Median_Earnings.csv', index=False)"
   ]
  },
  {
   "cell_type": "markdown",
   "metadata": {},
   "source": [
    "## Confidence Interval Analysis"
   ]
  },
  {
   "cell_type": "code",
   "execution_count": 143,
   "metadata": {},
   "outputs": [
    {
     "name": "stdout",
     "output_type": "stream",
     "text": [
      "Missing Values: 0\n",
      "0    21.7\n",
      "1    26.8\n",
      "2    13.5\n",
      "3    10.0\n",
      "4    12.5\n",
      "Name: At.Least.Bachelor.s.Degree, dtype: float64\n",
      "3143\n"
     ]
    }
   ],
   "source": [
    "# Extract the column for \"At Least Bachelor's Degree\"\n",
    "bachelors = data[\"At.Least.Bachelor.s.Degree\"]\n",
    "\n",
    "# Check for missing values\n",
    "print('Missing Values:', bachelors.isnull().sum())\n",
    "\n",
    "# Make sure the column is loaded correctly\n",
    "print(bachelors.head())\n",
    "print(bachelors.count())"
   ]
  },
  {
   "cell_type": "code",
   "execution_count": null,
   "metadata": {},
   "outputs": [
    {
     "name": "stdout",
     "output_type": "stream",
     "text": [
      "With attribute: 254\n",
      "Without attribute: 546\n",
      "Sample Proportion: 0.318\n"
     ]
    }
   ],
   "source": [
    "# Pull a random sample of 800 rows from the column\n",
    "random_sample = bachelors.sample(n=800, random_state=42)\n",
    "\n",
    "# Count the number of rows that have a value above 20\n",
    "x = random_sample[bachelors >= 20].count()\n",
    "n = random_sample.count()\n",
    "print('With attribute:', x)\n",
    "print('Without attribute:', n - x)\n",
    "\n",
    "# Estimate the sample proportion\n",
    "p_hat = (x / n).round(3)\n",
    "print('Sample Proportion:', p_hat)"
   ]
  },
  {
   "cell_type": "code",
   "execution_count": 148,
   "metadata": {},
   "outputs": [
    {
     "name": "stdout",
     "output_type": "stream",
     "text": [
      "Population Proportion: 0.33853006681514475\n"
     ]
    }
   ],
   "source": [
    "# Calcuate the percentage of the population that has the attribute\n",
    "p_with_attribute = bachelors[bachelors >= 20].count() / bachelors.count()\n",
    "print('Population Proportion:', p_with_attribute)"
   ]
  },
  {
   "cell_type": "markdown",
   "metadata": {},
   "source": [
    "Remainder of analysis (estimating the population proportion) completed in excel"
   ]
  },
  {
   "cell_type": "code",
   "execution_count": null,
   "metadata": {},
   "outputs": [],
   "source": []
  }
 ],
 "metadata": {
  "kernelspec": {
   "display_name": "PythonData",
   "language": "python",
   "name": "python3"
  },
  "language_info": {
   "codemirror_mode": {
    "name": "ipython",
    "version": 3
   },
   "file_extension": ".py",
   "mimetype": "text/x-python",
   "name": "python",
   "nbconvert_exporter": "python",
   "pygments_lexer": "ipython3",
   "version": "3.7.16"
  }
 },
 "nbformat": 4,
 "nbformat_minor": 2
}
